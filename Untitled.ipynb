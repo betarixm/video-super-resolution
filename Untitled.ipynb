{
 "cells": [
  {
   "cell_type": "code",
   "execution_count": 5,
   "id": "d4a44940",
   "metadata": {},
   "outputs": [],
   "source": [
    "## -*- coding: utf-8 -*-\n",
    "import tensorflow as tf\n",
    "import numpy as np\n",
    "import time\n",
    "import glob\n",
    "import scipy\n",
    "import argparse\n",
    "import os\n",
    "from PIL import Image\n",
    "\n",
    "from utils import load_image, down_sample, avg_psnr, depth_to_space_3d, DynFilter3D"
   ]
  },
  {
   "cell_type": "code",
   "execution_count": 10,
   "id": "f71f2831",
   "metadata": {},
   "outputs": [],
   "source": [
    "T_in = 7\n",
    "R = 2\n",
    "L = 16"
   ]
  },
  {
   "cell_type": "code",
   "execution_count": 11,
   "id": "7f3f8ed7",
   "metadata": {},
   "outputs": [],
   "source": [
    "def gkern(kernlen=13, nsig=1.6):\n",
    "    import scipy.ndimage.filters as fi\n",
    "    # create nxn zeros\n",
    "    inp = np.zeros((kernlen, kernlen))\n",
    "    # set element at the middle to one, a dirac delta\n",
    "    inp[kernlen//2, kernlen//2] = 1\n",
    "    # gaussian-smooth the dirac, resulting in a gaussian filter mask\n",
    "    return fi.gaussian_filter(inp, nsig)"
   ]
  },
  {
   "cell_type": "code",
   "execution_count": 12,
   "id": "8a686cbc",
   "metadata": {},
   "outputs": [],
   "source": [
    "h = gkern(13, 0.8)"
   ]
  },
  {
   "cell_type": "code",
   "execution_count": null,
   "id": "cb736230",
   "metadata": {},
   "outputs": [],
   "source": [
    "FR = FR_16"
   ]
  }
 ],
 "metadata": {
  "kernelspec": {
   "display_name": "Python 3",
   "language": "python",
   "name": "python3"
  },
  "language_info": {
   "codemirror_mode": {
    "name": "ipython",
    "version": 3
   },
   "file_extension": ".py",
   "mimetype": "text/x-python",
   "name": "python",
   "nbconvert_exporter": "python",
   "pygments_lexer": "ipython3",
   "version": "3.7.10"
  }
 },
 "nbformat": 4,
 "nbformat_minor": 5
}
